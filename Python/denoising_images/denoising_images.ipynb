{
 "cells": [
  {
   "cell_type": "markdown",
   "metadata": {},
   "source": [
    "# Denoising Images with an Autoencoder"
   ]
  },
  {
   "cell_type": "code",
   "execution_count": 1,
   "metadata": {
    "id": "ucdTFJFLNPxa",
    "scrolled": true
   },
   "outputs": [],
   "source": [
    "import numpy as np\n",
    "import tensorflow.keras as keras\n",
    "import matplotlib.pyplot as plt"
   ]
  },
  {
   "cell_type": "code",
   "execution_count": 2,
   "metadata": {
    "colab": {
     "base_uri": "https://localhost:8080/"
    },
    "id": "loOQDOx9NVgo",
    "outputId": "61b70011-e0a0-4c86-f949-d29596bbf092",
    "scrolled": true
   },
   "outputs": [],
   "source": [
    "(x_train, y_train), (x_test, y_test) = keras.datasets.mnist.load_data()"
   ]
  },
  {
   "cell_type": "code",
   "execution_count": 3,
   "metadata": {
    "id": "Z4aOQdkwNgFb",
    "scrolled": true
   },
   "outputs": [],
   "source": [
    "# Normalise into intensities\n",
    "x_train = x_train / 255.0\n",
    "x_test = x_test / 255.0"
   ]
  },
  {
   "cell_type": "code",
   "execution_count": 4,
   "metadata": {
    "colab": {
     "base_uri": "https://localhost:8080/",
     "height": 283
    },
    "id": "n63j2z8yNkAd",
    "outputId": "c63e2a59-06e2-4987-e945-fa48ef0d3ccb",
    "scrolled": true
   },
   "outputs": [
    {
     "data": {
      "text/plain": [
       "<matplotlib.image.AxesImage at 0x7f3a4bd87390>"
      ]
     },
     "execution_count": 4,
     "metadata": {},
     "output_type": "execute_result"
    },
    {
     "data": {
      "image/png": "[encoded data removed]",
      "text/plain": [
       "<Figure size 432x288 with 1 Axes>"
      ]
     },
     "metadata": {
      "needs_background": "light"
     },
     "output_type": "display_data"
    }
   ],
   "source": [
    "plt.imshow(x_train[0], cmap='gray')"
   ]
  },
  {
   "cell_type": "code",
   "execution_count": 5,
   "metadata": {
    "id": "qWIgcyAyNs9o",
    "scrolled": true
   },
   "outputs": [],
   "source": [
    "# This layer is for our image\n",
    "input_img = keras.Input(shape=(784,))\n",
    "\n",
    "# These layers are for our encoder\n",
    "encoder = keras.layers.Dense(2000, activation='relu')(input_img)\n",
    "encoder = keras.layers.Dense(500, activation='relu')(encoder)\n",
    "encoder = keras.layers.Dense(500, activation='relu')(encoder)\n",
    "\n",
    "# Sigmoid is used here to output normalised values \n",
    "latent_rep = keras.layers.Dense(10, activation='sigmoid')(encoder)\n",
    "\n",
    "# These layers are for our decoder\n",
    "decoder = keras.layers.Dense(500, activation='relu')(latent_rep)\n",
    "decoder = keras.layers.Dense(500, activation='relu')(decoder)\n",
    "decoder = keras.layers.Dense(2000, activation='relu')(decoder)\n",
    "\n",
    "# Final reconstructed image\n",
    "reconstruction = keras.layers.Dense(784)(decoder)"
   ]
  },
  {
   "cell_type": "code",
   "execution_count": 6,
   "metadata": {
    "scrolled": true
   },
   "outputs": [],
   "source": [
    "# Autoencoder model\n",
    "model = keras.Model(input_img, reconstruction)"
   ]
  },
  {
   "cell_type": "code",
   "execution_count": 7,
   "metadata": {
    "scrolled": true
   },
   "outputs": [],
   "source": [
    "model.compile(optimizer='adam', loss='mse')"
   ]
  },
  {
   "cell_type": "code",
   "execution_count": 8,
   "metadata": {
    "scrolled": true
   },
   "outputs": [],
   "source": [
    "# Only train on first 5000 images\n",
    "x_subset = x_train[:5000].reshape(5000, 784)\n",
    "noise = np.random.uniform(-0.5, 0.5, (5000, 784))"
   ]
  },
  {
   "cell_type": "code",
   "execution_count": 9,
   "metadata": {
    "colab": {
     "base_uri": "https://localhost:8080/"
    },
    "id": "ikD3R9Q5OfFv",
    "outputId": "f2980a81-994b-440a-89e4-1a7b8fd1bdf4",
    "scrolled": true
   },
   "outputs": [
    {
     "name": "stdout",
     "output_type": "stream",
     "text": [
      "Train on 5000 samples\n",
      "Epoch 1/50\n",
      "5000/5000 [==============================] - 2s 328us/sample - loss: 0.0700\n",
      "Epoch 2/50\n",
      "5000/5000 [==============================] - 1s 268us/sample - loss: 0.0596\n",
      "Epoch 3/50\n",
      "5000/5000 [==============================] - 1s 271us/sample - loss: 0.0499\n",
      "Epoch 4/50\n",
      "5000/5000 [==============================] - 1s 269us/sample - loss: 0.0419\n",
      "Epoch 5/50\n",
      "5000/5000 [==============================] - 2s 418us/sample - loss: 0.0368\n",
      "Epoch 6/50\n",
      "5000/5000 [==============================] - 3s 587us/sample - loss: 0.0340\n",
      "Epoch 7/50\n",
      "5000/5000 [==============================] - 3s 568us/sample - loss: 0.0314\n",
      "Epoch 8/50\n",
      "5000/5000 [==============================] - 3s 581us/sample - loss: 0.0297\n",
      "Epoch 9/50\n",
      "5000/5000 [==============================] - 3s 552us/sample - loss: 0.0279\n",
      "Epoch 10/50\n",
      "5000/5000 [==============================] - 3s 560us/sample - loss: 0.0267\n",
      "Epoch 11/50\n",
      "5000/5000 [==============================] - 3s 555us/sample - loss: 0.0256\n",
      "Epoch 12/50\n",
      "5000/5000 [==============================] - 3s 537us/sample - loss: 0.0248\n",
      "Epoch 13/50\n",
      "5000/5000 [==============================] - 3s 547us/sample - loss: 0.0240\n",
      "Epoch 14/50\n",
      "5000/5000 [==============================] - 3s 552us/sample - loss: 0.0233\n",
      "Epoch 15/50\n",
      "5000/5000 [==============================] - 3s 531us/sample - loss: 0.0224\n",
      "Epoch 16/50\n",
      "5000/5000 [==============================] - 3s 535us/sample - loss: 0.0219\n",
      "Epoch 17/50\n",
      "5000/5000 [==============================] - 3s 559us/sample - loss: 0.0211\n",
      "Epoch 18/50\n",
      "5000/5000 [==============================] - 3s 549us/sample - loss: 0.0206s - los\n",
      "Epoch 19/50\n",
      "5000/5000 [==============================] - 3s 531us/sample - loss: 0.0202\n",
      "Epoch 20/50\n",
      "5000/5000 [==============================] - 3s 553us/sample - loss: 0.0197\n",
      "Epoch 21/50\n",
      "5000/5000 [==============================] - 3s 541us/sample - loss: 0.0192\n",
      "Epoch 22/50\n",
      "5000/5000 [==============================] - 3s 561us/sample - loss: 0.0189\n",
      "Epoch 23/50\n",
      "5000/5000 [==============================] - 3s 548us/sample - loss: 0.0185\n",
      "Epoch 24/50\n",
      "5000/5000 [==============================] - 3s 567us/sample - loss: 0.0182\n",
      "Epoch 25/50\n",
      "5000/5000 [==============================] - 3s 574us/sample - loss: 0.0180\n",
      "Epoch 26/50\n",
      "5000/5000 [==============================] - 3s 558us/sample - loss: 0.0179\n",
      "Epoch 27/50\n",
      "5000/5000 [==============================] - 3s 552us/sample - loss: 0.0175\n",
      "Epoch 28/50\n",
      "5000/5000 [==============================] - 3s 545us/sample - loss: 0.0172\n",
      "Epoch 29/50\n",
      "5000/5000 [==============================] - 3s 547us/sample - loss: 0.0169\n",
      "Epoch 30/50\n",
      "5000/5000 [==============================] - 3s 552us/sample - loss: 0.0166\n",
      "Epoch 31/50\n",
      "5000/5000 [==============================] - 3s 553us/sample - loss: 0.0163\n",
      "Epoch 32/50\n",
      "5000/5000 [==============================] - 3s 542us/sample - loss: 0.0161\n",
      "Epoch 33/50\n",
      "5000/5000 [==============================] - 3s 540us/sample - loss: 0.0159\n",
      "Epoch 34/50\n",
      "5000/5000 [==============================] - 3s 541us/sample - loss: 0.0155\n",
      "Epoch 35/50\n",
      "5000/5000 [==============================] - 3s 537us/sample - loss: 0.0155\n",
      "Epoch 36/50\n",
      "5000/5000 [==============================] - 3s 546us/sample - loss: 0.0154\n",
      "Epoch 37/50\n",
      "5000/5000 [==============================] - 3s 554us/sample - loss: 0.0152\n",
      "Epoch 38/50\n",
      "5000/5000 [==============================] - 3s 562us/sample - loss: 0.0152\n",
      "Epoch 39/50\n",
      "5000/5000 [==============================] - 3s 566us/sample - loss: 0.0150\n",
      "Epoch 40/50\n",
      "5000/5000 [==============================] - 3s 557us/sample - loss: 0.0147\n",
      "Epoch 41/50\n",
      "5000/5000 [==============================] - 3s 559us/sample - loss: 0.0145\n",
      "Epoch 42/50\n",
      "5000/5000 [==============================] - 3s 551us/sample - loss: 0.0144\n",
      "Epoch 43/50\n",
      "5000/5000 [==============================] - 3s 564us/sample - loss: 0.0143\n",
      "Epoch 44/50\n",
      "5000/5000 [==============================] - 3s 562us/sample - loss: 0.0141\n",
      "Epoch 45/50\n",
      "5000/5000 [==============================] - 3s 563us/sample - loss: 0.0139\n",
      "Epoch 46/50\n",
      "5000/5000 [==============================] - 3s 561us/sample - loss: 0.0137\n",
      "Epoch 47/50\n",
      "5000/5000 [==============================] - 3s 558us/sample - loss: 0.0135\n",
      "Epoch 48/50\n",
      "5000/5000 [==============================] - 3s 561us/sample - loss: 0.0135\n",
      "Epoch 49/50\n",
      "5000/5000 [==============================] - 3s 570us/sample - loss: 0.0134\n",
      "Epoch 50/50\n",
      "5000/5000 [==============================] - 3s 560us/sample - loss: 0.0131\n"
     ]
    },
    {
     "data": {
      "text/plain": [
       "<tensorflow.python.keras.callbacks.History at 0x7f3a4abbc6d8>"
      ]
     },
     "execution_count": 9,
     "metadata": {},
     "output_type": "execute_result"
    }
   ],
   "source": [
    "# Train on noisy images as input, and unaltered image as output\n",
    "model.fit(x_subset + noise, x_subset, batch_size=128, epochs=50)"
   ]
  },
  {
   "cell_type": "code",
   "execution_count": 10,
   "metadata": {
    "id": "pTMp7LaPUrX5",
    "scrolled": true
   },
   "outputs": [],
   "source": [
    "x_t = x_test[:20:5]\n",
    "samples = x_t.reshape(len(x_t), 784)\n",
    "sample_noise = np.random.uniform(-0.5, 0.5, (len(x_t), 784))\n",
    "noised = samples + sample_noise"
   ]
  },
  {
   "cell_type": "code",
   "execution_count": 11,
   "metadata": {
    "id": "J2Ghrx_ROtAG",
    "scrolled": true
   },
   "outputs": [],
   "source": [
    "img = model.predict(noised).reshape(len(samples), 28, 28)"
   ]
  },
  {
   "cell_type": "code",
   "execution_count": 12,
   "metadata": {
    "colab": {
     "base_uri": "https://localhost:8080/",
     "height": 268
    },
    "id": "T9XATfnYRUId",
    "outputId": "f2d93540-9d17-4ee6-ffc3-786dc8a816f2",
    "scrolled": false
   },
   "outputs": [
    {
     "data": {
      "image/png": "[encoded data removed]",
      "text/plain": [
       "<Figure size 720x720 with 8 Axes>"
      ]
     },
     "metadata": {
      "needs_background": "light"
     },
     "output_type": "display_data"
    }
   ],
   "source": [
    "plt.figure(figsize=(10, 10))\n",
    "for i in range(len(img)):\n",
    "  plt.subplot(4, 2, 2 * i + 1)\n",
    "  plt.imshow(noised[i].reshape(28, 28), cmap='gray')\n",
    "  plt.subplot(4, 2, 2 * i + 2)\n",
    "  plt.imshow(img[i], cmap='gray')\n",
    "plt.tight_layout()\n",
    "plt.savefig('reconstructed.png')"
   ]
  }
 ],
 "metadata": {
  "colab": {
   "collapsed_sections": [],
   "name": "Autoencoders",
   "provenance": []
  },
  "kernelspec": {
   "display_name": "Python 3",
   "language": "python",
   "name": "python3"
  },
  "language_info": {
   "codemirror_mode": {
    "name": "ipython",
    "version": 3
   },
   "file_extension": ".py",
   "mimetype": "text/x-python",
   "name": "python",
   "nbconvert_exporter": "python",
   "pygments_lexer": "ipython3",
   "version": "3.6.9"
  }
 },
 "nbformat": 4,
 "nbformat_minor": 1
}

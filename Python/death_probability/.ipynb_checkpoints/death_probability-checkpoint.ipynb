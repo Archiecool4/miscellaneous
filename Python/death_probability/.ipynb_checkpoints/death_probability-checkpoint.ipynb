{
 "cells": [
  {
   "cell_type": "markdown",
   "id": "829a80bf-1d5d-4a3d-919c-16fc6ff18710",
   "metadata": {},
   "source": [
    "# Probability a Person Will Die in the United States \n",
    "Based on the [actuarial life table](https://www.ssa.gov/oact/STATS/table4c6.html) from the Social Security Administration, we calculate the probability a person will die in a given number of years by providing their age and sex."
   ]
  },
  {
   "cell_type": "code",
   "execution_count": 1,
   "id": "3ba09120-860f-4701-b681-4ca52a856e6a",
   "metadata": {},
   "outputs": [],
   "source": [
    "import pandas as pd\n",
    "\n",
    "import requests\n",
    "\n",
    "from bs4 import BeautifulSoup"
   ]
  },
  {
   "cell_type": "markdown",
   "id": "b1e8ec40-d149-40c3-b76a-5a784c39167a",
   "metadata": {},
   "source": [
    "## Retrieve Data from Website"
   ]
  },
  {
   "cell_type": "code",
   "execution_count": 2,
   "id": "5d0fda4c-381f-4f9f-b5b2-dcd6fd0fc236",
   "metadata": {},
   "outputs": [],
   "source": [
    "# Should give us most recent data: 2017 as of Feb 2022\n",
    "url = 'https://www.ssa.gov/oact/STATS/table4c6.html'\n",
    "response = requests.get(url)\n",
    "soup = BeautifulSoup(response.text, 'html.parser')\n",
    "table = soup.find(class_='t')"
   ]
  },
  {
   "cell_type": "code",
   "execution_count": 3,
   "id": "7793fd58-59fb-4cdb-8187-92bc9a5f7204",
   "metadata": {},
   "outputs": [
    {
     "data": {
      "text/html": [
       "<div>\n",
       "<style scoped>\n",
       "    .dataframe tbody tr th:only-of-type {\n",
       "        vertical-align: middle;\n",
       "    }\n",
       "\n",
       "    .dataframe tbody tr th {\n",
       "        vertical-align: top;\n",
       "    }\n",
       "\n",
       "    .dataframe thead tr th {\n",
       "        text-align: left;\n",
       "    }\n",
       "</style>\n",
       "<table border=\"1\" class=\"dataframe\">\n",
       "  <thead>\n",
       "    <tr>\n",
       "      <th></th>\n",
       "      <th>Exact age</th>\n",
       "      <th colspan=\"3\" halign=\"left\">Male</th>\n",
       "      <th colspan=\"3\" halign=\"left\">Female</th>\n",
       "    </tr>\n",
       "    <tr>\n",
       "      <th></th>\n",
       "      <th>Exact age</th>\n",
       "      <th>Death  probability a</th>\n",
       "      <th>Number of  lives b</th>\n",
       "      <th>Life expectancy</th>\n",
       "      <th>Death  probability a</th>\n",
       "      <th>Number of  lives b</th>\n",
       "      <th>Life  expectancy</th>\n",
       "    </tr>\n",
       "  </thead>\n",
       "  <tbody>\n",
       "    <tr>\n",
       "      <th>0</th>\n",
       "      <td>0</td>\n",
       "      <td>0.006081</td>\n",
       "      <td>100000</td>\n",
       "      <td>76.23</td>\n",
       "      <td>0.005046</td>\n",
       "      <td>100000</td>\n",
       "      <td>81.28</td>\n",
       "    </tr>\n",
       "    <tr>\n",
       "      <th>1</th>\n",
       "      <td>1</td>\n",
       "      <td>0.000425</td>\n",
       "      <td>99392</td>\n",
       "      <td>75.69</td>\n",
       "      <td>0.000349</td>\n",
       "      <td>99495</td>\n",
       "      <td>80.69</td>\n",
       "    </tr>\n",
       "    <tr>\n",
       "      <th>2</th>\n",
       "      <td>2</td>\n",
       "      <td>0.000260</td>\n",
       "      <td>99350</td>\n",
       "      <td>74.73</td>\n",
       "      <td>0.000212</td>\n",
       "      <td>99461</td>\n",
       "      <td>79.72</td>\n",
       "    </tr>\n",
       "    <tr>\n",
       "      <th>3</th>\n",
       "      <td>3</td>\n",
       "      <td>0.000194</td>\n",
       "      <td>99324</td>\n",
       "      <td>73.75</td>\n",
       "      <td>0.000166</td>\n",
       "      <td>99440</td>\n",
       "      <td>78.74</td>\n",
       "    </tr>\n",
       "    <tr>\n",
       "      <th>4</th>\n",
       "      <td>4</td>\n",
       "      <td>0.000154</td>\n",
       "      <td>99305</td>\n",
       "      <td>72.76</td>\n",
       "      <td>0.000137</td>\n",
       "      <td>99423</td>\n",
       "      <td>77.75</td>\n",
       "    </tr>\n",
       "  </tbody>\n",
       "</table>\n",
       "</div>"
      ],
      "text/plain": [
       "  Exact age                 Male                                     \\\n",
       "  Exact age Death  probability a Number of  lives b Life expectancy   \n",
       "0         0             0.006081             100000           76.23   \n",
       "1         1             0.000425              99392           75.69   \n",
       "2         2             0.000260              99350           74.73   \n",
       "3         3             0.000194              99324           73.75   \n",
       "4         4             0.000154              99305           72.76   \n",
       "\n",
       "                Female                                      \n",
       "  Death  probability a Number of  lives b Life  expectancy  \n",
       "0             0.005046             100000            81.28  \n",
       "1             0.000349              99495            80.69  \n",
       "2             0.000212              99461            79.72  \n",
       "3             0.000166              99440            78.74  \n",
       "4             0.000137              99423            77.75  "
      ]
     },
     "execution_count": 3,
     "metadata": {},
     "output_type": "execute_result"
    }
   ],
   "source": [
    "# `pd.read_html` returns a list of dataframes\n",
    "dataframe = pd.read_html(str(table))[0]\n",
    "# Get the oldest age we have data for\n",
    "max_age = len(dataframe) - 2\n",
    "dataframe.head()"
   ]
  },
  {
   "cell_type": "markdown",
   "id": "b0b18f5c-e284-4e25-abe9-c686133027cb",
   "metadata": {},
   "source": [
    "## Calculating Probability of Death\n",
    "We have a probability of dying at each age. When computing the probability of dying within the next number of years, we cannot simply multiply these probabilities together starting at their age and incrementing. This is because once an individual dies, they will not make it to the next year. Instead, we compute the probability of surviving year on year, and subtract from 1 at the end. Let $P_{n,\\text{sex}}(\\text{dying})$ give the probability of a person of certain sex dying at age $n$.\n",
    "\n",
    "$$P(\\text{dying})=1-\\prod_{n=\\text{age}}^{\\text{age}+\\text{years}-1}\\big(1-P_{n,\\text{sex}}(\\text{dying})\\big)$$"
   ]
  },
  {
   "cell_type": "code",
   "execution_count": 4,
   "id": "e2e8329a-7b55-4a13-bf68-7cc119569d99",
   "metadata": {},
   "outputs": [],
   "source": [
    "def calculate_death_probability(age, sex, years):\n",
    "    '''\n",
    "    Given a person's `age` and `sex`, what is the \n",
    "    probability they will die in the next `years`?\n",
    "    '''\n",
    "    # Checks\n",
    "    assert age >= 0 and age <= max_age\n",
    "    assert years > 0 and age + years <= max_age + 1\n",
    "    assert sex == 'Male' or sex == 'Female'\n",
    "    \n",
    "    # Get data for correct `sex`\n",
    "    df = dataframe[sex]\n",
    "    prob = 1\n",
    "    for i in range(years):\n",
    "        # Probability of surviving to the next year\n",
    "        prob *= 1 - float(df.iloc[age+i, 0])\n",
    "    # Subtract from 1 to get probability of dying\n",
    "    return 1 - prob"
   ]
  },
  {
   "cell_type": "code",
   "execution_count": 5,
   "id": "fea302bc-2c8e-4b61-b9ef-a37534ef3caf",
   "metadata": {},
   "outputs": [
    {
     "data": {
      "text/plain": [
       "0.20200351765453473"
      ]
     },
     "execution_count": 5,
     "metadata": {},
     "output_type": "execute_result"
    }
   ],
   "source": [
    "calculate_death_probability(73, 'Male', 6)"
   ]
  }
 ],
 "metadata": {
  "kernelspec": {
   "display_name": "Python 3 (ipykernel)",
   "language": "python",
   "name": "python3"
  },
  "language_info": {
   "codemirror_mode": {
    "name": "ipython",
    "version": 3
   },
   "file_extension": ".py",
   "mimetype": "text/x-python",
   "name": "python",
   "nbconvert_exporter": "python",
   "pygments_lexer": "ipython3",
   "version": "3.8.11"
  }
 },
 "nbformat": 4,
 "nbformat_minor": 5
}
